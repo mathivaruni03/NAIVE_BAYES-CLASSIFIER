{
 "cells": [
  {
   "cell_type": "code",
   "execution_count": 1,
   "id": "bbacbfd7-c9d9-4eb4-a946-e9f3eeb8bc45",
   "metadata": {},
   "outputs": [
    {
     "name": "stdout",
     "output_type": "stream",
     "text": [
      "Prediction:negative\n"
     ]
    }
   ],
   "source": [
    "from sklearn.naive_bayes import MultinomialNB\n",
    "from sklearn.feature_extraction.text import CountVectorizer\n",
    "from sklearn.model_selection import train_test_split\n",
    "#sample data\n",
    "x=[\"I loved the movie\", \"I hated the movie\", \"a great movie. good movie\", \"poor acting\", \"great acting. good movie\"]\n",
    "y=[\"positive\",\"negative\",\"positive\",\"negative\",\"positive\"]\n",
    "\n",
    "#convert text to feature vectors\n",
    "vectorizer=CountVectorizer()\n",
    "x_transformed=vectorizer.fit_transform(x)\n",
    "\n",
    "#train-test split\n",
    "x_train,x_test,y_train,y_test=train_test_split(x_transformed,y,test_size=0.2,random_state=42)\n",
    "\n",
    "#train the Naive Bayes Model\n",
    "model=MultinomialNB()\n",
    "model.fit(x_train,y_train)\n",
    "\n",
    "#Predict\n",
    "test_sentence=[\"I hated the poor acting\"]\n",
    "test_vector=vectorizer.transform(test_sentence)\n",
    "prediction= model.predict(test_vector)\n",
    "print(f\"Prediction:{prediction[0]}\")\n"
   ]
  }
 ],
 "metadata": {
  "kernelspec": {
   "display_name": "Python 3 (ipykernel)",
   "language": "python",
   "name": "python3"
  },
  "language_info": {
   "codemirror_mode": {
    "name": "ipython",
    "version": 3
   },
   "file_extension": ".py",
   "mimetype": "text/x-python",
   "name": "python",
   "nbconvert_exporter": "python",
   "pygments_lexer": "ipython3",
   "version": "3.12.7"
  }
 },
 "nbformat": 4,
 "nbformat_minor": 5
}
