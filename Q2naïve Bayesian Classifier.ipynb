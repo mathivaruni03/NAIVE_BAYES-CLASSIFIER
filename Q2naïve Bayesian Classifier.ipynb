{
 "cells": [
  {
   "cell_type": "code",
   "execution_count": null,
   "id": "8080bb42-8ebc-4c90-b9dc-9ee7dbebe9f4",
   "metadata": {},
   "outputs": [],
   "source": [
    "from sklearn.naive_bayes import MultinomialNB\n",
    "from sklearn.feature_extraction.text import CountVectorizer\n",
    "from sklearn.model_selection import train_test_split\n",
    "#sample data\n",
    "x=[\"I love the sandwich\", \"This is an amazing place\", \"I feel very good about these bears\", \"This is my best work\", \"What an awesome view\",\"I do not like this restaurant\",\"I am tired of this stuff\",\"I can't deal with this\",\"He is my sworn enemy\",\"My boss is horrible\",\"This is an awesome place\",\"I do not like the taste of this juice\",\"I love to dance\",\"I am sick and tired of this place\",\"WHAT A GREAT HOLIDAY\",\"That is a bad locality to stay\",\"We will have good fun tomorrow\",\"I went to my enemy's house today\"]\n",
    "y=[\"positive\",\"negative\",\"positive\",\"negative\",\"positive\"]\n",
    "\n",
    "#convert text to feature vectors\n",
    "vectorizer=CountVectorizer()\n",
    "x_transformed=vectorizer.fit_transform(x)\n",
    "\n",
    "#train-test split\n",
    "x_train,x_test,y_train,y_test=train_test_split(x_transformed,y,test_size=0.2,random_state=42)\n",
    "y_predict=nb_classifier.predict(x_test)\n",
    "\n",
    "#train the Naive Bayes Model\n",
    "model=MultinomialNB()\n",
    "model.fit(x_train,y_train)\n",
    "\n",
    "#Predict\n",
    "test_sentence=[\"I hated the poor acting\"]\n",
    "test_vector=vectorizer.transform(test_sentence)\n",
    "prediction= model.predict(test_vector)\n",
    "print(f\"Prediction:{prediction[0]}\")"
   ]
  }
 ],
 "metadata": {
  "kernelspec": {
   "display_name": "Python 3 (ipykernel)",
   "language": "python",
   "name": "python3"
  },
  "language_info": {
   "codemirror_mode": {
    "name": "ipython",
    "version": 3
   },
   "file_extension": ".py",
   "mimetype": "text/x-python",
   "name": "python",
   "nbconvert_exporter": "python",
   "pygments_lexer": "ipython3",
   "version": "3.12.7"
  }
 },
 "nbformat": 4,
 "nbformat_minor": 5
}
