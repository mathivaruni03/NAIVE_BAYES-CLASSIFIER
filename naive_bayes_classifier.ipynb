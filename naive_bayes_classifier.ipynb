{
 "cells": [
  {
   "cell_type": "code",
   "execution_count": 4,
   "id": "cf97ba42-a616-4bfb-90f1-db9c4f73c077",
   "metadata": {},
   "outputs": [
    {
     "name": "stdout",
     "output_type": "stream",
     "text": [
      "Prediction:negative\n"
     ]
    }
   ],
   "source": [
    "from sklearn.naive_bayes import MultinomialNB\n",
    "from sklearn.feature_extraction.text import CountVectorizer\n",
    "from sklearn.model_selection import train_test_split\n",
    "#sample data\n",
    "x=[\"I love programming\", \"python is amazing\", \"I hate bugs\", \"Debugging is fun\", \"I enjoy coding\"]\n",
    "y=[\"positive\",\"positive\",\"negative\",\"positive\",\"positive\"]\n",
    "\n",
    "#convert text to feature vectors\n",
    "vectorizer=CountVectorizer()\n",
    "x_transformed=vectorizer.fit_transform(x)\n",
    "\n",
    "#train-test split\n",
    "x_train,x_test,y_train,y_test=train_test_split(x_transformed,y,test_size=0.2,random_state=42)\n",
    "\n",
    "#train the Naive Bayes Model\n",
    "model=MultinomialNB()\n",
    "model.fit(x_train,y_train)\n",
    "\n",
    "#Predict\n",
    "test_sentence=[\"I hate bugs\"]\n",
    "test_vector=vectorizer.transform(test_sentence)\n",
    "prediction= model.predict(test_vector)\n",
    "print(f\"Prediction:{prediction[0]}\")\n"
   ]
  },
  {
   "cell_type": "code",
   "execution_count": null,
   "id": "83b989a2-eb46-4e59-a5e2-c6b9abf56573",
   "metadata": {},
   "outputs": [],
   "source": []
  },
  {
   "cell_type": "code",
   "execution_count": null,
   "id": "f155bded-d6c5-43fc-8698-39ca525c9e23",
   "metadata": {},
   "outputs": [],
   "source": []
  }
 ],
 "metadata": {
  "kernelspec": {
   "display_name": "Python 3 (ipykernel)",
   "language": "python",
   "name": "python3"
  },
  "language_info": {
   "codemirror_mode": {
    "name": "ipython",
    "version": 3
   },
   "file_extension": ".py",
   "mimetype": "text/x-python",
   "name": "python",
   "nbconvert_exporter": "python",
   "pygments_lexer": "ipython3",
   "version": "3.12.7"
  }
 },
 "nbformat": 4,
 "nbformat_minor": 5
}
